{
  "cells": [
    {
      "cell_type": "code",
      "source": [
        "import yfinance as yf\n",
        "\n",
        "import numpy as np\n",
        "import pandas as pd\n",
        "from math import sqrt\n",
        "from pandas import DataFrame\n",
        "from pandas import read_csv\n",
        "from pandas import datetime\n",
        "\n",
        "import seaborn as sns\n",
        "import matplotlib.pyplot as plt\n",
        "\n",
        "import plotly.graph_objects as go\n",
        "import plotly.express as px\n",
        "from itertools import cycle\n",
        "\n",
        "from statsmodels.graphics.tsaplots import plot_pacf, plot_acf\n",
        "\n",
        "from sklearn.decomposition import PCA\n",
        "from sklearn.preprocessing import StandardScaler, MinMaxScaler\n",
        "from sklearn.model_selection import RandomizedSearchCV\n",
        "from sklearn.metrics import mean_squared_error, r2_score, mean_absolute_error\n",
        "\n",
        "from tensorflow.keras.models import Sequential, load_model\n",
        "from tensorflow.keras.layers import LSTM, Dense, Dropout, Activation\n",
        "from tensorflow.keras import optimizers\n",
        "from tensorflow.keras.optimizers import Adam\n",
        "from tensorflow.keras.callbacks import EarlyStopping, ModelCheckpoint"
      ],
      "metadata": {
        "colab": {
          "base_uri": "https://localhost:8080/"
        },
        "id": "ZMVWdqE4nOEL",
        "outputId": "683f9921-7aa3-4ed0-ceef-051fd6626fb0"
      },
      "execution_count": 89,
      "outputs": [
        {
          "output_type": "stream",
          "name": "stderr",
          "text": [
            "<ipython-input-89-7f48e2ddb901>:8: FutureWarning: The pandas.datetime class is deprecated and will be removed from pandas in a future version. Import from datetime module instead.\n",
            "  from pandas import datetime\n"
          ]
        }
      ]
    },
    {
      "cell_type": "code",
      "execution_count": 90,
      "metadata": {
        "colab": {
          "base_uri": "https://localhost:8080/"
        },
        "id": "BJSIrVR8EF0Y",
        "outputId": "c41012b4-c2f3-4444-c369-43e8144f7b0f"
      },
      "outputs": [
        {
          "output_type": "stream",
          "name": "stdout",
          "text": [
            "\r[*********************100%%**********************]  1 of 1 completed\n",
            "                    Open          High           Low         Close  \\\n",
            "Date                                                                 \n",
            "2018-01-01  14112.200195  14112.200195  13154.700195  13657.200195   \n",
            "2018-01-02  13625.000000  15444.599609  13163.599609  14982.099609   \n",
            "2018-01-03  14978.200195  15572.799805  14844.500000  15201.000000   \n",
            "2018-01-04  15270.700195  15739.700195  14522.200195  15599.200195   \n",
            "2018-01-05  15477.200195  17705.199219  15202.799805  17429.500000   \n",
            "...                  ...           ...           ...           ...   \n",
            "2022-01-26  36950.515625  38825.410156  36374.906250  36852.121094   \n",
            "2022-01-27  36841.878906  37148.324219  35629.281250  37138.234375   \n",
            "2022-01-28  37128.445312  37952.878906  36211.109375  37784.332031   \n",
            "2022-01-29  37780.714844  38576.261719  37406.472656  38138.179688   \n",
            "2022-01-30  38151.917969  38266.339844  37437.710938  37917.601562   \n",
            "\n",
            "               Adj Close       Volume  \n",
            "Date                                   \n",
            "2018-01-01  13657.200195  10291200000  \n",
            "2018-01-02  14982.099609  16846600192  \n",
            "2018-01-03  15201.000000  16871900160  \n",
            "2018-01-04  15599.200195  21783199744  \n",
            "2018-01-05  17429.500000  23840899072  \n",
            "...                  ...          ...  \n",
            "2022-01-26  36852.121094  31324598034  \n",
            "2022-01-27  37138.234375  25041426629  \n",
            "2022-01-28  37784.332031  22238830523  \n",
            "2022-01-29  38138.179688  17194183075  \n",
            "2022-01-30  37917.601562  14643548444  \n",
            "\n",
            "[1491 rows x 6 columns]\n"
          ]
        }
      ],
      "source": [
        "# Download historical data\n",
        "main = yf.download(\"BTC-USD\", start=\"2018-01-01\", end=\"2022-01-31\")\n",
        "\n",
        "# Print the first few rows of the data\n",
        "main.head()\n",
        "\n",
        "print(main)"
      ]
    },
    {
      "cell_type": "code",
      "source": [
        "data = main.copy()"
      ],
      "metadata": {
        "id": "7tj0J9kushCo"
      },
      "execution_count": 91,
      "outputs": []
    },
    {
      "cell_type": "code",
      "execution_count": 92,
      "metadata": {
        "colab": {
          "base_uri": "https://localhost:8080/"
        },
        "id": "0Wj1IZBYFsjq",
        "outputId": "09040983-78cd-4465-a256-3b3d3ee15883"
      },
      "outputs": [
        {
          "output_type": "execute_result",
          "data": {
            "text/plain": [
              "(1491, 6)"
            ]
          },
          "metadata": {},
          "execution_count": 92
        }
      ],
      "source": [
        "data.shape"
      ]
    },
    {
      "cell_type": "code",
      "execution_count": 93,
      "metadata": {
        "id": "_wjtw6M9CS1-"
      },
      "outputs": [],
      "source": [
        "# Extract Date Components\n",
        "data['Year'] = data.index.year\n",
        "data['Month'] = data.index.month\n",
        "data['Day'] = data.index.day\n",
        "data['DayOfWeek'] = data.index.dayofweek"
      ]
    },
    {
      "cell_type": "code",
      "source": [
        "# Create target variable for the next day's closing price\n",
        "data['TargetNextClose'] = data['Adj Close'].shift(-1)"
      ],
      "metadata": {
        "id": "AwrNirjtsjs9"
      },
      "execution_count": 94,
      "outputs": []
    },
    {
      "cell_type": "code",
      "source": [
        "# Display the first few rows of the DataFrame\n",
        "data.head()"
      ],
      "metadata": {
        "colab": {
          "base_uri": "https://localhost:8080/",
          "height": 237
        },
        "id": "MEw1Oz5osmWM",
        "outputId": "0941b2c5-de31-40d4-e820-eefc1b9c3133"
      },
      "execution_count": 95,
      "outputs": [
        {
          "output_type": "execute_result",
          "data": {
            "text/plain": [
              "                    Open          High           Low         Close  \\\n",
              "Date                                                                 \n",
              "2018-01-01  14112.200195  14112.200195  13154.700195  13657.200195   \n",
              "2018-01-02  13625.000000  15444.599609  13163.599609  14982.099609   \n",
              "2018-01-03  14978.200195  15572.799805  14844.500000  15201.000000   \n",
              "2018-01-04  15270.700195  15739.700195  14522.200195  15599.200195   \n",
              "2018-01-05  15477.200195  17705.199219  15202.799805  17429.500000   \n",
              "\n",
              "               Adj Close       Volume  Year  Month  Day  DayOfWeek  \\\n",
              "Date                                                                 \n",
              "2018-01-01  13657.200195  10291200000  2018      1    1          0   \n",
              "2018-01-02  14982.099609  16846600192  2018      1    2          1   \n",
              "2018-01-03  15201.000000  16871900160  2018      1    3          2   \n",
              "2018-01-04  15599.200195  21783199744  2018      1    4          3   \n",
              "2018-01-05  17429.500000  23840899072  2018      1    5          4   \n",
              "\n",
              "            TargetNextClose  \n",
              "Date                         \n",
              "2018-01-01     14982.099609  \n",
              "2018-01-02     15201.000000  \n",
              "2018-01-03     15599.200195  \n",
              "2018-01-04     17429.500000  \n",
              "2018-01-05     17527.000000  "
            ],
            "text/html": [
              "\n",
              "  <div id=\"df-cfe66a1f-ad7b-4d0c-ab60-ee4b4a44f285\" class=\"colab-df-container\">\n",
              "    <div>\n",
              "<style scoped>\n",
              "    .dataframe tbody tr th:only-of-type {\n",
              "        vertical-align: middle;\n",
              "    }\n",
              "\n",
              "    .dataframe tbody tr th {\n",
              "        vertical-align: top;\n",
              "    }\n",
              "\n",
              "    .dataframe thead th {\n",
              "        text-align: right;\n",
              "    }\n",
              "</style>\n",
              "<table border=\"1\" class=\"dataframe\">\n",
              "  <thead>\n",
              "    <tr style=\"text-align: right;\">\n",
              "      <th></th>\n",
              "      <th>Open</th>\n",
              "      <th>High</th>\n",
              "      <th>Low</th>\n",
              "      <th>Close</th>\n",
              "      <th>Adj Close</th>\n",
              "      <th>Volume</th>\n",
              "      <th>Year</th>\n",
              "      <th>Month</th>\n",
              "      <th>Day</th>\n",
              "      <th>DayOfWeek</th>\n",
              "      <th>TargetNextClose</th>\n",
              "    </tr>\n",
              "    <tr>\n",
              "      <th>Date</th>\n",
              "      <th></th>\n",
              "      <th></th>\n",
              "      <th></th>\n",
              "      <th></th>\n",
              "      <th></th>\n",
              "      <th></th>\n",
              "      <th></th>\n",
              "      <th></th>\n",
              "      <th></th>\n",
              "      <th></th>\n",
              "      <th></th>\n",
              "    </tr>\n",
              "  </thead>\n",
              "  <tbody>\n",
              "    <tr>\n",
              "      <th>2018-01-01</th>\n",
              "      <td>14112.200195</td>\n",
              "      <td>14112.200195</td>\n",
              "      <td>13154.700195</td>\n",
              "      <td>13657.200195</td>\n",
              "      <td>13657.200195</td>\n",
              "      <td>10291200000</td>\n",
              "      <td>2018</td>\n",
              "      <td>1</td>\n",
              "      <td>1</td>\n",
              "      <td>0</td>\n",
              "      <td>14982.099609</td>\n",
              "    </tr>\n",
              "    <tr>\n",
              "      <th>2018-01-02</th>\n",
              "      <td>13625.000000</td>\n",
              "      <td>15444.599609</td>\n",
              "      <td>13163.599609</td>\n",
              "      <td>14982.099609</td>\n",
              "      <td>14982.099609</td>\n",
              "      <td>16846600192</td>\n",
              "      <td>2018</td>\n",
              "      <td>1</td>\n",
              "      <td>2</td>\n",
              "      <td>1</td>\n",
              "      <td>15201.000000</td>\n",
              "    </tr>\n",
              "    <tr>\n",
              "      <th>2018-01-03</th>\n",
              "      <td>14978.200195</td>\n",
              "      <td>15572.799805</td>\n",
              "      <td>14844.500000</td>\n",
              "      <td>15201.000000</td>\n",
              "      <td>15201.000000</td>\n",
              "      <td>16871900160</td>\n",
              "      <td>2018</td>\n",
              "      <td>1</td>\n",
              "      <td>3</td>\n",
              "      <td>2</td>\n",
              "      <td>15599.200195</td>\n",
              "    </tr>\n",
              "    <tr>\n",
              "      <th>2018-01-04</th>\n",
              "      <td>15270.700195</td>\n",
              "      <td>15739.700195</td>\n",
              "      <td>14522.200195</td>\n",
              "      <td>15599.200195</td>\n",
              "      <td>15599.200195</td>\n",
              "      <td>21783199744</td>\n",
              "      <td>2018</td>\n",
              "      <td>1</td>\n",
              "      <td>4</td>\n",
              "      <td>3</td>\n",
              "      <td>17429.500000</td>\n",
              "    </tr>\n",
              "    <tr>\n",
              "      <th>2018-01-05</th>\n",
              "      <td>15477.200195</td>\n",
              "      <td>17705.199219</td>\n",
              "      <td>15202.799805</td>\n",
              "      <td>17429.500000</td>\n",
              "      <td>17429.500000</td>\n",
              "      <td>23840899072</td>\n",
              "      <td>2018</td>\n",
              "      <td>1</td>\n",
              "      <td>5</td>\n",
              "      <td>4</td>\n",
              "      <td>17527.000000</td>\n",
              "    </tr>\n",
              "  </tbody>\n",
              "</table>\n",
              "</div>\n",
              "    <div class=\"colab-df-buttons\">\n",
              "\n",
              "  <div class=\"colab-df-container\">\n",
              "    <button class=\"colab-df-convert\" onclick=\"convertToInteractive('df-cfe66a1f-ad7b-4d0c-ab60-ee4b4a44f285')\"\n",
              "            title=\"Convert this dataframe to an interactive table.\"\n",
              "            style=\"display:none;\">\n",
              "\n",
              "  <svg xmlns=\"http://www.w3.org/2000/svg\" height=\"24px\" viewBox=\"0 -960 960 960\">\n",
              "    <path d=\"M120-120v-720h720v720H120Zm60-500h600v-160H180v160Zm220 220h160v-160H400v160Zm0 220h160v-160H400v160ZM180-400h160v-160H180v160Zm440 0h160v-160H620v160ZM180-180h160v-160H180v160Zm440 0h160v-160H620v160Z\"/>\n",
              "  </svg>\n",
              "    </button>\n",
              "\n",
              "  <style>\n",
              "    .colab-df-container {\n",
              "      display:flex;\n",
              "      gap: 12px;\n",
              "    }\n",
              "\n",
              "    .colab-df-convert {\n",
              "      background-color: #E8F0FE;\n",
              "      border: none;\n",
              "      border-radius: 50%;\n",
              "      cursor: pointer;\n",
              "      display: none;\n",
              "      fill: #1967D2;\n",
              "      height: 32px;\n",
              "      padding: 0 0 0 0;\n",
              "      width: 32px;\n",
              "    }\n",
              "\n",
              "    .colab-df-convert:hover {\n",
              "      background-color: #E2EBFA;\n",
              "      box-shadow: 0px 1px 2px rgba(60, 64, 67, 0.3), 0px 1px 3px 1px rgba(60, 64, 67, 0.15);\n",
              "      fill: #174EA6;\n",
              "    }\n",
              "\n",
              "    .colab-df-buttons div {\n",
              "      margin-bottom: 4px;\n",
              "    }\n",
              "\n",
              "    [theme=dark] .colab-df-convert {\n",
              "      background-color: #3B4455;\n",
              "      fill: #D2E3FC;\n",
              "    }\n",
              "\n",
              "    [theme=dark] .colab-df-convert:hover {\n",
              "      background-color: #434B5C;\n",
              "      box-shadow: 0px 1px 3px 1px rgba(0, 0, 0, 0.15);\n",
              "      filter: drop-shadow(0px 1px 2px rgba(0, 0, 0, 0.3));\n",
              "      fill: #FFFFFF;\n",
              "    }\n",
              "  </style>\n",
              "\n",
              "    <script>\n",
              "      const buttonEl =\n",
              "        document.querySelector('#df-cfe66a1f-ad7b-4d0c-ab60-ee4b4a44f285 button.colab-df-convert');\n",
              "      buttonEl.style.display =\n",
              "        google.colab.kernel.accessAllowed ? 'block' : 'none';\n",
              "\n",
              "      async function convertToInteractive(key) {\n",
              "        const element = document.querySelector('#df-cfe66a1f-ad7b-4d0c-ab60-ee4b4a44f285');\n",
              "        const dataTable =\n",
              "          await google.colab.kernel.invokeFunction('convertToInteractive',\n",
              "                                                    [key], {});\n",
              "        if (!dataTable) return;\n",
              "\n",
              "        const docLinkHtml = 'Like what you see? Visit the ' +\n",
              "          '<a target=\"_blank\" href=https://colab.research.google.com/notebooks/data_table.ipynb>data table notebook</a>'\n",
              "          + ' to learn more about interactive tables.';\n",
              "        element.innerHTML = '';\n",
              "        dataTable['output_type'] = 'display_data';\n",
              "        await google.colab.output.renderOutput(dataTable, element);\n",
              "        const docLink = document.createElement('div');\n",
              "        docLink.innerHTML = docLinkHtml;\n",
              "        element.appendChild(docLink);\n",
              "      }\n",
              "    </script>\n",
              "  </div>\n",
              "\n",
              "\n",
              "<div id=\"df-f7ccd4cd-f576-4339-a329-c04b2b2ba35c\">\n",
              "  <button class=\"colab-df-quickchart\" onclick=\"quickchart('df-f7ccd4cd-f576-4339-a329-c04b2b2ba35c')\"\n",
              "            title=\"Suggest charts\"\n",
              "            style=\"display:none;\">\n",
              "\n",
              "<svg xmlns=\"http://www.w3.org/2000/svg\" height=\"24px\"viewBox=\"0 0 24 24\"\n",
              "     width=\"24px\">\n",
              "    <g>\n",
              "        <path d=\"M19 3H5c-1.1 0-2 .9-2 2v14c0 1.1.9 2 2 2h14c1.1 0 2-.9 2-2V5c0-1.1-.9-2-2-2zM9 17H7v-7h2v7zm4 0h-2V7h2v10zm4 0h-2v-4h2v4z\"/>\n",
              "    </g>\n",
              "</svg>\n",
              "  </button>\n",
              "\n",
              "<style>\n",
              "  .colab-df-quickchart {\n",
              "      --bg-color: #E8F0FE;\n",
              "      --fill-color: #1967D2;\n",
              "      --hover-bg-color: #E2EBFA;\n",
              "      --hover-fill-color: #174EA6;\n",
              "      --disabled-fill-color: #AAA;\n",
              "      --disabled-bg-color: #DDD;\n",
              "  }\n",
              "\n",
              "  [theme=dark] .colab-df-quickchart {\n",
              "      --bg-color: #3B4455;\n",
              "      --fill-color: #D2E3FC;\n",
              "      --hover-bg-color: #434B5C;\n",
              "      --hover-fill-color: #FFFFFF;\n",
              "      --disabled-bg-color: #3B4455;\n",
              "      --disabled-fill-color: #666;\n",
              "  }\n",
              "\n",
              "  .colab-df-quickchart {\n",
              "    background-color: var(--bg-color);\n",
              "    border: none;\n",
              "    border-radius: 50%;\n",
              "    cursor: pointer;\n",
              "    display: none;\n",
              "    fill: var(--fill-color);\n",
              "    height: 32px;\n",
              "    padding: 0;\n",
              "    width: 32px;\n",
              "  }\n",
              "\n",
              "  .colab-df-quickchart:hover {\n",
              "    background-color: var(--hover-bg-color);\n",
              "    box-shadow: 0 1px 2px rgba(60, 64, 67, 0.3), 0 1px 3px 1px rgba(60, 64, 67, 0.15);\n",
              "    fill: var(--button-hover-fill-color);\n",
              "  }\n",
              "\n",
              "  .colab-df-quickchart-complete:disabled,\n",
              "  .colab-df-quickchart-complete:disabled:hover {\n",
              "    background-color: var(--disabled-bg-color);\n",
              "    fill: var(--disabled-fill-color);\n",
              "    box-shadow: none;\n",
              "  }\n",
              "\n",
              "  .colab-df-spinner {\n",
              "    border: 2px solid var(--fill-color);\n",
              "    border-color: transparent;\n",
              "    border-bottom-color: var(--fill-color);\n",
              "    animation:\n",
              "      spin 1s steps(1) infinite;\n",
              "  }\n",
              "\n",
              "  @keyframes spin {\n",
              "    0% {\n",
              "      border-color: transparent;\n",
              "      border-bottom-color: var(--fill-color);\n",
              "      border-left-color: var(--fill-color);\n",
              "    }\n",
              "    20% {\n",
              "      border-color: transparent;\n",
              "      border-left-color: var(--fill-color);\n",
              "      border-top-color: var(--fill-color);\n",
              "    }\n",
              "    30% {\n",
              "      border-color: transparent;\n",
              "      border-left-color: var(--fill-color);\n",
              "      border-top-color: var(--fill-color);\n",
              "      border-right-color: var(--fill-color);\n",
              "    }\n",
              "    40% {\n",
              "      border-color: transparent;\n",
              "      border-right-color: var(--fill-color);\n",
              "      border-top-color: var(--fill-color);\n",
              "    }\n",
              "    60% {\n",
              "      border-color: transparent;\n",
              "      border-right-color: var(--fill-color);\n",
              "    }\n",
              "    80% {\n",
              "      border-color: transparent;\n",
              "      border-right-color: var(--fill-color);\n",
              "      border-bottom-color: var(--fill-color);\n",
              "    }\n",
              "    90% {\n",
              "      border-color: transparent;\n",
              "      border-bottom-color: var(--fill-color);\n",
              "    }\n",
              "  }\n",
              "</style>\n",
              "\n",
              "  <script>\n",
              "    async function quickchart(key) {\n",
              "      const quickchartButtonEl =\n",
              "        document.querySelector('#' + key + ' button');\n",
              "      quickchartButtonEl.disabled = true;  // To prevent multiple clicks.\n",
              "      quickchartButtonEl.classList.add('colab-df-spinner');\n",
              "      try {\n",
              "        const charts = await google.colab.kernel.invokeFunction(\n",
              "            'suggestCharts', [key], {});\n",
              "      } catch (error) {\n",
              "        console.error('Error during call to suggestCharts:', error);\n",
              "      }\n",
              "      quickchartButtonEl.classList.remove('colab-df-spinner');\n",
              "      quickchartButtonEl.classList.add('colab-df-quickchart-complete');\n",
              "    }\n",
              "    (() => {\n",
              "      let quickchartButtonEl =\n",
              "        document.querySelector('#df-f7ccd4cd-f576-4339-a329-c04b2b2ba35c button');\n",
              "      quickchartButtonEl.style.display =\n",
              "        google.colab.kernel.accessAllowed ? 'block' : 'none';\n",
              "    })();\n",
              "  </script>\n",
              "</div>\n",
              "\n",
              "    </div>\n",
              "  </div>\n"
            ]
          },
          "metadata": {},
          "execution_count": 95
        }
      ]
    },
    {
      "cell_type": "code",
      "execution_count": 96,
      "metadata": {
        "colab": {
          "base_uri": "https://localhost:8080/"
        },
        "id": "jgzNzq1CI42K",
        "outputId": "8075aad3-0cad-45ae-e975-66f8edb7886e"
      },
      "outputs": [
        {
          "output_type": "stream",
          "name": "stdout",
          "text": [
            "<class 'pandas.core.frame.DataFrame'>\n",
            "DatetimeIndex: 1491 entries, 2018-01-01 to 2022-01-30\n",
            "Data columns (total 11 columns):\n",
            " #   Column           Non-Null Count  Dtype  \n",
            "---  ------           --------------  -----  \n",
            " 0   Open             1491 non-null   float64\n",
            " 1   High             1491 non-null   float64\n",
            " 2   Low              1491 non-null   float64\n",
            " 3   Close            1491 non-null   float64\n",
            " 4   Adj Close        1491 non-null   float64\n",
            " 5   Volume           1491 non-null   int64  \n",
            " 6   Year             1491 non-null   int64  \n",
            " 7   Month            1491 non-null   int64  \n",
            " 8   Day              1491 non-null   int64  \n",
            " 9   DayOfWeek        1491 non-null   int64  \n",
            " 10  TargetNextClose  1490 non-null   float64\n",
            "dtypes: float64(6), int64(5)\n",
            "memory usage: 139.8 KB\n"
          ]
        }
      ],
      "source": [
        "# Display concise summary of DataFrame information\n",
        "data.info()"
      ]
    },
    {
      "cell_type": "code",
      "source": [
        "# Generate descriptive statistics of the DataFrame\n",
        "data.describe()"
      ],
      "metadata": {
        "colab": {
          "base_uri": "https://localhost:8080/",
          "height": 300
        },
        "id": "6PDcdX1Dwq7j",
        "outputId": "4e806cc5-98fd-4efd-dfc4-d68f27c7000e"
      },
      "execution_count": 97,
      "outputs": [
        {
          "output_type": "execute_result",
          "data": {
            "text/plain": [
              "               Open          High           Low         Close     Adj Close  \\\n",
              "count   1491.000000   1491.000000   1491.000000   1491.000000   1491.000000   \n",
              "mean   18821.611592  19315.184733  18264.990887  18834.535578  18834.535578   \n",
              "std    17876.586972  18362.900800  17308.753528  17877.281815  17877.281815   \n",
              "min     3236.274658   3275.377930   3191.303467   3236.761719   3236.761719   \n",
              "25%     7183.078369   7320.043701   6938.703369   7182.919678   7182.919678   \n",
              "50%     9539.485352   9711.889648   9349.545898   9538.024414   9538.024414   \n",
              "75%    32643.937500  33883.109375  31225.665039  32742.024414  32742.024414   \n",
              "max    67549.734375  68789.625000  66382.062500  67566.828125  67566.828125   \n",
              "\n",
              "             Volume         Year        Month          Day    DayOfWeek  \\\n",
              "count  1.491000e+03  1491.000000  1491.000000  1491.000000  1491.000000   \n",
              "mean   2.583597e+10  2019.550637     6.411804    15.725017     3.000000   \n",
              "std    2.104253e+10     1.161152     3.501980     8.800216     2.000671   \n",
              "min    2.923670e+09  2018.000000     1.000000     1.000000     0.000000   \n",
              "25%    8.463315e+09  2019.000000     3.000000     8.000000     1.000000   \n",
              "50%    2.248291e+10  2020.000000     6.000000    16.000000     3.000000   \n",
              "75%    3.620891e+10  2021.000000     9.000000    23.000000     5.000000   \n",
              "max    3.509679e+11  2022.000000    12.000000    31.000000     6.000000   \n",
              "\n",
              "       TargetNextClose  \n",
              "count      1490.000000  \n",
              "mean      18838.010299  \n",
              "std       17882.780263  \n",
              "min        3236.761719  \n",
              "25%        7179.667114  \n",
              "50%        9537.458496  \n",
              "75%       32762.023926  \n",
              "max       67566.828125  "
            ],
            "text/html": [
              "\n",
              "  <div id=\"df-e9f14f4f-48f2-4443-90f1-f5bc7b84d92f\" class=\"colab-df-container\">\n",
              "    <div>\n",
              "<style scoped>\n",
              "    .dataframe tbody tr th:only-of-type {\n",
              "        vertical-align: middle;\n",
              "    }\n",
              "\n",
              "    .dataframe tbody tr th {\n",
              "        vertical-align: top;\n",
              "    }\n",
              "\n",
              "    .dataframe thead th {\n",
              "        text-align: right;\n",
              "    }\n",
              "</style>\n",
              "<table border=\"1\" class=\"dataframe\">\n",
              "  <thead>\n",
              "    <tr style=\"text-align: right;\">\n",
              "      <th></th>\n",
              "      <th>Open</th>\n",
              "      <th>High</th>\n",
              "      <th>Low</th>\n",
              "      <th>Close</th>\n",
              "      <th>Adj Close</th>\n",
              "      <th>Volume</th>\n",
              "      <th>Year</th>\n",
              "      <th>Month</th>\n",
              "      <th>Day</th>\n",
              "      <th>DayOfWeek</th>\n",
              "      <th>TargetNextClose</th>\n",
              "    </tr>\n",
              "  </thead>\n",
              "  <tbody>\n",
              "    <tr>\n",
              "      <th>count</th>\n",
              "      <td>1491.000000</td>\n",
              "      <td>1491.000000</td>\n",
              "      <td>1491.000000</td>\n",
              "      <td>1491.000000</td>\n",
              "      <td>1491.000000</td>\n",
              "      <td>1.491000e+03</td>\n",
              "      <td>1491.000000</td>\n",
              "      <td>1491.000000</td>\n",
              "      <td>1491.000000</td>\n",
              "      <td>1491.000000</td>\n",
              "      <td>1490.000000</td>\n",
              "    </tr>\n",
              "    <tr>\n",
              "      <th>mean</th>\n",
              "      <td>18821.611592</td>\n",
              "      <td>19315.184733</td>\n",
              "      <td>18264.990887</td>\n",
              "      <td>18834.535578</td>\n",
              "      <td>18834.535578</td>\n",
              "      <td>2.583597e+10</td>\n",
              "      <td>2019.550637</td>\n",
              "      <td>6.411804</td>\n",
              "      <td>15.725017</td>\n",
              "      <td>3.000000</td>\n",
              "      <td>18838.010299</td>\n",
              "    </tr>\n",
              "    <tr>\n",
              "      <th>std</th>\n",
              "      <td>17876.586972</td>\n",
              "      <td>18362.900800</td>\n",
              "      <td>17308.753528</td>\n",
              "      <td>17877.281815</td>\n",
              "      <td>17877.281815</td>\n",
              "      <td>2.104253e+10</td>\n",
              "      <td>1.161152</td>\n",
              "      <td>3.501980</td>\n",
              "      <td>8.800216</td>\n",
              "      <td>2.000671</td>\n",
              "      <td>17882.780263</td>\n",
              "    </tr>\n",
              "    <tr>\n",
              "      <th>min</th>\n",
              "      <td>3236.274658</td>\n",
              "      <td>3275.377930</td>\n",
              "      <td>3191.303467</td>\n",
              "      <td>3236.761719</td>\n",
              "      <td>3236.761719</td>\n",
              "      <td>2.923670e+09</td>\n",
              "      <td>2018.000000</td>\n",
              "      <td>1.000000</td>\n",
              "      <td>1.000000</td>\n",
              "      <td>0.000000</td>\n",
              "      <td>3236.761719</td>\n",
              "    </tr>\n",
              "    <tr>\n",
              "      <th>25%</th>\n",
              "      <td>7183.078369</td>\n",
              "      <td>7320.043701</td>\n",
              "      <td>6938.703369</td>\n",
              "      <td>7182.919678</td>\n",
              "      <td>7182.919678</td>\n",
              "      <td>8.463315e+09</td>\n",
              "      <td>2019.000000</td>\n",
              "      <td>3.000000</td>\n",
              "      <td>8.000000</td>\n",
              "      <td>1.000000</td>\n",
              "      <td>7179.667114</td>\n",
              "    </tr>\n",
              "    <tr>\n",
              "      <th>50%</th>\n",
              "      <td>9539.485352</td>\n",
              "      <td>9711.889648</td>\n",
              "      <td>9349.545898</td>\n",
              "      <td>9538.024414</td>\n",
              "      <td>9538.024414</td>\n",
              "      <td>2.248291e+10</td>\n",
              "      <td>2020.000000</td>\n",
              "      <td>6.000000</td>\n",
              "      <td>16.000000</td>\n",
              "      <td>3.000000</td>\n",
              "      <td>9537.458496</td>\n",
              "    </tr>\n",
              "    <tr>\n",
              "      <th>75%</th>\n",
              "      <td>32643.937500</td>\n",
              "      <td>33883.109375</td>\n",
              "      <td>31225.665039</td>\n",
              "      <td>32742.024414</td>\n",
              "      <td>32742.024414</td>\n",
              "      <td>3.620891e+10</td>\n",
              "      <td>2021.000000</td>\n",
              "      <td>9.000000</td>\n",
              "      <td>23.000000</td>\n",
              "      <td>5.000000</td>\n",
              "      <td>32762.023926</td>\n",
              "    </tr>\n",
              "    <tr>\n",
              "      <th>max</th>\n",
              "      <td>67549.734375</td>\n",
              "      <td>68789.625000</td>\n",
              "      <td>66382.062500</td>\n",
              "      <td>67566.828125</td>\n",
              "      <td>67566.828125</td>\n",
              "      <td>3.509679e+11</td>\n",
              "      <td>2022.000000</td>\n",
              "      <td>12.000000</td>\n",
              "      <td>31.000000</td>\n",
              "      <td>6.000000</td>\n",
              "      <td>67566.828125</td>\n",
              "    </tr>\n",
              "  </tbody>\n",
              "</table>\n",
              "</div>\n",
              "    <div class=\"colab-df-buttons\">\n",
              "\n",
              "  <div class=\"colab-df-container\">\n",
              "    <button class=\"colab-df-convert\" onclick=\"convertToInteractive('df-e9f14f4f-48f2-4443-90f1-f5bc7b84d92f')\"\n",
              "            title=\"Convert this dataframe to an interactive table.\"\n",
              "            style=\"display:none;\">\n",
              "\n",
              "  <svg xmlns=\"http://www.w3.org/2000/svg\" height=\"24px\" viewBox=\"0 -960 960 960\">\n",
              "    <path d=\"M120-120v-720h720v720H120Zm60-500h600v-160H180v160Zm220 220h160v-160H400v160Zm0 220h160v-160H400v160ZM180-400h160v-160H180v160Zm440 0h160v-160H620v160ZM180-180h160v-160H180v160Zm440 0h160v-160H620v160Z\"/>\n",
              "  </svg>\n",
              "    </button>\n",
              "\n",
              "  <style>\n",
              "    .colab-df-container {\n",
              "      display:flex;\n",
              "      gap: 12px;\n",
              "    }\n",
              "\n",
              "    .colab-df-convert {\n",
              "      background-color: #E8F0FE;\n",
              "      border: none;\n",
              "      border-radius: 50%;\n",
              "      cursor: pointer;\n",
              "      display: none;\n",
              "      fill: #1967D2;\n",
              "      height: 32px;\n",
              "      padding: 0 0 0 0;\n",
              "      width: 32px;\n",
              "    }\n",
              "\n",
              "    .colab-df-convert:hover {\n",
              "      background-color: #E2EBFA;\n",
              "      box-shadow: 0px 1px 2px rgba(60, 64, 67, 0.3), 0px 1px 3px 1px rgba(60, 64, 67, 0.15);\n",
              "      fill: #174EA6;\n",
              "    }\n",
              "\n",
              "    .colab-df-buttons div {\n",
              "      margin-bottom: 4px;\n",
              "    }\n",
              "\n",
              "    [theme=dark] .colab-df-convert {\n",
              "      background-color: #3B4455;\n",
              "      fill: #D2E3FC;\n",
              "    }\n",
              "\n",
              "    [theme=dark] .colab-df-convert:hover {\n",
              "      background-color: #434B5C;\n",
              "      box-shadow: 0px 1px 3px 1px rgba(0, 0, 0, 0.15);\n",
              "      filter: drop-shadow(0px 1px 2px rgba(0, 0, 0, 0.3));\n",
              "      fill: #FFFFFF;\n",
              "    }\n",
              "  </style>\n",
              "\n",
              "    <script>\n",
              "      const buttonEl =\n",
              "        document.querySelector('#df-e9f14f4f-48f2-4443-90f1-f5bc7b84d92f button.colab-df-convert');\n",
              "      buttonEl.style.display =\n",
              "        google.colab.kernel.accessAllowed ? 'block' : 'none';\n",
              "\n",
              "      async function convertToInteractive(key) {\n",
              "        const element = document.querySelector('#df-e9f14f4f-48f2-4443-90f1-f5bc7b84d92f');\n",
              "        const dataTable =\n",
              "          await google.colab.kernel.invokeFunction('convertToInteractive',\n",
              "                                                    [key], {});\n",
              "        if (!dataTable) return;\n",
              "\n",
              "        const docLinkHtml = 'Like what you see? Visit the ' +\n",
              "          '<a target=\"_blank\" href=https://colab.research.google.com/notebooks/data_table.ipynb>data table notebook</a>'\n",
              "          + ' to learn more about interactive tables.';\n",
              "        element.innerHTML = '';\n",
              "        dataTable['output_type'] = 'display_data';\n",
              "        await google.colab.output.renderOutput(dataTable, element);\n",
              "        const docLink = document.createElement('div');\n",
              "        docLink.innerHTML = docLinkHtml;\n",
              "        element.appendChild(docLink);\n",
              "      }\n",
              "    </script>\n",
              "  </div>\n",
              "\n",
              "\n",
              "<div id=\"df-1abd24ee-b617-4f23-825c-3a1b31779b33\">\n",
              "  <button class=\"colab-df-quickchart\" onclick=\"quickchart('df-1abd24ee-b617-4f23-825c-3a1b31779b33')\"\n",
              "            title=\"Suggest charts\"\n",
              "            style=\"display:none;\">\n",
              "\n",
              "<svg xmlns=\"http://www.w3.org/2000/svg\" height=\"24px\"viewBox=\"0 0 24 24\"\n",
              "     width=\"24px\">\n",
              "    <g>\n",
              "        <path d=\"M19 3H5c-1.1 0-2 .9-2 2v14c0 1.1.9 2 2 2h14c1.1 0 2-.9 2-2V5c0-1.1-.9-2-2-2zM9 17H7v-7h2v7zm4 0h-2V7h2v10zm4 0h-2v-4h2v4z\"/>\n",
              "    </g>\n",
              "</svg>\n",
              "  </button>\n",
              "\n",
              "<style>\n",
              "  .colab-df-quickchart {\n",
              "      --bg-color: #E8F0FE;\n",
              "      --fill-color: #1967D2;\n",
              "      --hover-bg-color: #E2EBFA;\n",
              "      --hover-fill-color: #174EA6;\n",
              "      --disabled-fill-color: #AAA;\n",
              "      --disabled-bg-color: #DDD;\n",
              "  }\n",
              "\n",
              "  [theme=dark] .colab-df-quickchart {\n",
              "      --bg-color: #3B4455;\n",
              "      --fill-color: #D2E3FC;\n",
              "      --hover-bg-color: #434B5C;\n",
              "      --hover-fill-color: #FFFFFF;\n",
              "      --disabled-bg-color: #3B4455;\n",
              "      --disabled-fill-color: #666;\n",
              "  }\n",
              "\n",
              "  .colab-df-quickchart {\n",
              "    background-color: var(--bg-color);\n",
              "    border: none;\n",
              "    border-radius: 50%;\n",
              "    cursor: pointer;\n",
              "    display: none;\n",
              "    fill: var(--fill-color);\n",
              "    height: 32px;\n",
              "    padding: 0;\n",
              "    width: 32px;\n",
              "  }\n",
              "\n",
              "  .colab-df-quickchart:hover {\n",
              "    background-color: var(--hover-bg-color);\n",
              "    box-shadow: 0 1px 2px rgba(60, 64, 67, 0.3), 0 1px 3px 1px rgba(60, 64, 67, 0.15);\n",
              "    fill: var(--button-hover-fill-color);\n",
              "  }\n",
              "\n",
              "  .colab-df-quickchart-complete:disabled,\n",
              "  .colab-df-quickchart-complete:disabled:hover {\n",
              "    background-color: var(--disabled-bg-color);\n",
              "    fill: var(--disabled-fill-color);\n",
              "    box-shadow: none;\n",
              "  }\n",
              "\n",
              "  .colab-df-spinner {\n",
              "    border: 2px solid var(--fill-color);\n",
              "    border-color: transparent;\n",
              "    border-bottom-color: var(--fill-color);\n",
              "    animation:\n",
              "      spin 1s steps(1) infinite;\n",
              "  }\n",
              "\n",
              "  @keyframes spin {\n",
              "    0% {\n",
              "      border-color: transparent;\n",
              "      border-bottom-color: var(--fill-color);\n",
              "      border-left-color: var(--fill-color);\n",
              "    }\n",
              "    20% {\n",
              "      border-color: transparent;\n",
              "      border-left-color: var(--fill-color);\n",
              "      border-top-color: var(--fill-color);\n",
              "    }\n",
              "    30% {\n",
              "      border-color: transparent;\n",
              "      border-left-color: var(--fill-color);\n",
              "      border-top-color: var(--fill-color);\n",
              "      border-right-color: var(--fill-color);\n",
              "    }\n",
              "    40% {\n",
              "      border-color: transparent;\n",
              "      border-right-color: var(--fill-color);\n",
              "      border-top-color: var(--fill-color);\n",
              "    }\n",
              "    60% {\n",
              "      border-color: transparent;\n",
              "      border-right-color: var(--fill-color);\n",
              "    }\n",
              "    80% {\n",
              "      border-color: transparent;\n",
              "      border-right-color: var(--fill-color);\n",
              "      border-bottom-color: var(--fill-color);\n",
              "    }\n",
              "    90% {\n",
              "      border-color: transparent;\n",
              "      border-bottom-color: var(--fill-color);\n",
              "    }\n",
              "  }\n",
              "</style>\n",
              "\n",
              "  <script>\n",
              "    async function quickchart(key) {\n",
              "      const quickchartButtonEl =\n",
              "        document.querySelector('#' + key + ' button');\n",
              "      quickchartButtonEl.disabled = true;  // To prevent multiple clicks.\n",
              "      quickchartButtonEl.classList.add('colab-df-spinner');\n",
              "      try {\n",
              "        const charts = await google.colab.kernel.invokeFunction(\n",
              "            'suggestCharts', [key], {});\n",
              "      } catch (error) {\n",
              "        console.error('Error during call to suggestCharts:', error);\n",
              "      }\n",
              "      quickchartButtonEl.classList.remove('colab-df-spinner');\n",
              "      quickchartButtonEl.classList.add('colab-df-quickchart-complete');\n",
              "    }\n",
              "    (() => {\n",
              "      let quickchartButtonEl =\n",
              "        document.querySelector('#df-1abd24ee-b617-4f23-825c-3a1b31779b33 button');\n",
              "      quickchartButtonEl.style.display =\n",
              "        google.colab.kernel.accessAllowed ? 'block' : 'none';\n",
              "    })();\n",
              "  </script>\n",
              "</div>\n",
              "\n",
              "    </div>\n",
              "  </div>\n"
            ]
          },
          "metadata": {},
          "execution_count": 97
        }
      ]
    },
    {
      "cell_type": "code",
      "execution_count": 98,
      "metadata": {
        "colab": {
          "base_uri": "https://localhost:8080/"
        },
        "id": "_w0iV50ykGQ5",
        "outputId": "93a276e1-d72f-4fbc-c31f-c1a5ff7aa795"
      },
      "outputs": [
        {
          "output_type": "execute_result",
          "data": {
            "text/plain": [
              "Open               0\n",
              "High               0\n",
              "Low                0\n",
              "Close              0\n",
              "Adj Close          0\n",
              "Volume             0\n",
              "Year               0\n",
              "Month              0\n",
              "Day                0\n",
              "DayOfWeek          0\n",
              "TargetNextClose    1\n",
              "dtype: int64"
            ]
          },
          "metadata": {},
          "execution_count": 98
        }
      ],
      "source": [
        "# Count the number of missing values in each column\n",
        "data.isnull().sum()"
      ]
    },
    {
      "cell_type": "code",
      "execution_count": 99,
      "metadata": {
        "id": "-44V0ssLHMUe"
      },
      "outputs": [],
      "source": [
        "# Drop rows with missing values from the DataFrame\n",
        "data = data.dropna()"
      ]
    },
    {
      "cell_type": "code",
      "execution_count": 100,
      "metadata": {
        "colab": {
          "base_uri": "https://localhost:8080/"
        },
        "id": "bNgtwtjSpanj",
        "outputId": "6589ce71-1f6a-4854-8eae-1caddf672fef"
      },
      "outputs": [
        {
          "output_type": "execute_result",
          "data": {
            "text/plain": [
              "(1490, 11)"
            ]
          },
          "metadata": {},
          "execution_count": 100
        }
      ],
      "source": [
        "# Display the shape of the DataFrame (number of rows and columns)\n",
        "data.shape"
      ]
    },
    {
      "cell_type": "code",
      "source": [
        "# Create a datetime column from 'Year', 'Month', and 'Day'\n",
        "data['Date'] = pd.to_datetime(data[['Year', 'Month', 'Day']])\n",
        "\n",
        "# Print the first and last date\n",
        "first_date = data['Date'].min()\n",
        "last_date = data['Date'].max()\n",
        "\n",
        "print(\"First Date:\", first_date)\n",
        "print(\"Last Date:\", last_date)"
      ],
      "metadata": {
        "colab": {
          "base_uri": "https://localhost:8080/"
        },
        "id": "4eA_pMDZHG-V",
        "outputId": "f960f7fc-78ce-4d28-ce1e-4cec37bd3f88"
      },
      "execution_count": 101,
      "outputs": [
        {
          "output_type": "stream",
          "name": "stdout",
          "text": [
            "First Date: 2018-01-01 00:00:00\n",
            "Last Date: 2022-01-29 00:00:00\n"
          ]
        },
        {
          "output_type": "stream",
          "name": "stderr",
          "text": [
            "<ipython-input-101-94bdbb45b7f8>:2: SettingWithCopyWarning: \n",
            "A value is trying to be set on a copy of a slice from a DataFrame.\n",
            "Try using .loc[row_indexer,col_indexer] = value instead\n",
            "\n",
            "See the caveats in the documentation: https://pandas.pydata.org/pandas-docs/stable/user_guide/indexing.html#returning-a-view-versus-a-copy\n",
            "  data['Date'] = pd.to_datetime(data[['Year', 'Month', 'Day']])\n"
          ]
        }
      ]
    },
    {
      "cell_type": "code",
      "execution_count": 102,
      "metadata": {
        "colab": {
          "base_uri": "https://localhost:8080/",
          "height": 472
        },
        "id": "P9Xdeo8QhxeF",
        "outputId": "97e9d4de-5ebc-49f3-eace-5a5cfbe8d102"
      },
      "outputs": [
        {
          "output_type": "display_data",
          "data": {
            "text/plain": [
              "<Figure size 640x480 with 1 Axes>"
            ],
            "image/png": "[encoded data removed]"
          },
          "metadata": {}
        }
      ],
      "source": [
        "# Calculate basic statistics for volume\n",
        "volume_stats = data['Volume'].describe()\n",
        "\n",
        "# Visualize volume using a bar chart\n",
        "plt.bar(data['Date'], data['Volume'])\n",
        "plt.xlabel('Date')\n",
        "plt.ylabel('Volume')\n",
        "plt.title('Trading Volume Over Time')\n",
        "plt.show()"
      ]
    },
    {
      "cell_type": "code",
      "source": [
        "# Drop redundant columns from the DataFrame\n",
        "data = data.drop(columns='Date')"
      ],
      "metadata": {
        "id": "Y_W8SYIDefqx"
      },
      "execution_count": 103,
      "outputs": []
    },
    {
      "cell_type": "code",
      "source": [
        "# Check the data types of each column to ensure validity before using them for machine learning\n",
        "data.dtypes"
      ],
      "metadata": {
        "colab": {
          "base_uri": "https://localhost:8080/"
        },
        "id": "rV3izqegcpZI",
        "outputId": "59c7d94d-4824-406c-b0ea-8e8bbfb057f4"
      },
      "execution_count": 104,
      "outputs": [
        {
          "output_type": "execute_result",
          "data": {
            "text/plain": [
              "Open               float64\n",
              "High               float64\n",
              "Low                float64\n",
              "Close              float64\n",
              "Adj Close          float64\n",
              "Volume               int64\n",
              "Year                 int64\n",
              "Month                int64\n",
              "Day                  int64\n",
              "DayOfWeek            int64\n",
              "TargetNextClose    float64\n",
              "dtype: object"
            ]
          },
          "metadata": {},
          "execution_count": 104
        }
      ]
    },
    {
      "cell_type": "code",
      "source": [
        "# Normalize the 'data' DataFrame using Min-Max scaling\n",
        "scaler = MinMaxScaler(feature_range=(0, 1))\n",
        "data_set_scaled = scaler.fit_transform(data)\n",
        "\n",
        "# Initialize empty lists for features (X) and target variable (y)\n",
        "X = []\n",
        "timesteps = 14\n",
        "\n",
        "# Create input sequences for LSTM\n",
        "for j in range(data.shape[1]):\n",
        "    X.append([])\n",
        "    for i in range(timesteps, data_set_scaled.shape[0]):\n",
        "        # Append sequences of length 'timesteps' for each feature\n",
        "        X[j].append(data_set_scaled[i - timesteps:i, j])\n",
        "\n",
        "# Move axis from 0 to position 2 for compatibility with LSTM input\n",
        "X = np.moveaxis(X, [0], [2])\n",
        "\n",
        "# Convert lists to NumPy arrays\n",
        "X, yi = np.array(X), np.array(data_set_scaled[timesteps:, -1])\n",
        "y = np.reshape(yi, (len(yi), 1))"
      ],
      "metadata": {
        "id": "Ukz800jP00_8"
      },
      "execution_count": 105,
      "outputs": []
    },
    {
      "cell_type": "code",
      "source": [
        "# Print the shapes of X and y\n",
        "print(f'Shape of X: {X.shape}')\n",
        "print(f'Shape of y: {y.shape}')"
      ],
      "metadata": {
        "colab": {
          "base_uri": "https://localhost:8080/"
        },
        "id": "JYhfvOcnqcoE",
        "outputId": "a9de1724-24c3-4b0b-d168-bc34a69c3269"
      },
      "execution_count": 106,
      "outputs": [
        {
          "output_type": "stream",
          "name": "stdout",
          "text": [
            "Shape of X: (1476, 14, 11)\n",
            "Shape of y: (1476, 1)\n"
          ]
        }
      ]
    },
    {
      "cell_type": "code",
      "source": [
        "# Calculate the lengths for training (80%), validation (10%), and test (10%) sets\n",
        "train_len = int(0.8 * len(data))\n",
        "val_len = int(0.1 * len(data))\n",
        "test_len = len(data) - train_len - val_len\n",
        "\n",
        "# Split the features (X) and target variable (y) into training, validation, and test sets\n",
        "X_train, y_train = X[:train_len], y[:train_len]\n",
        "X_val, y_val = X[train_len:train_len + val_len], y[train_len:train_len + val_len]\n",
        "X_test, y_test = X[train_len + val_len:], y[train_len + val_len:]\n",
        "\n",
        "# Print the shapes\n",
        "print(\"X_train shape:\", X_train.shape)\n",
        "print(\"y_train shape:\", y_train.shape)\n",
        "print(\"X_val shape:\", X_val.shape)\n",
        "print(\"y_val shape:\", y_val.shape)\n",
        "print(\"X_test shape:\", X_test.shape)\n",
        "print(\"y_test shape:\", y_test.shape)"
      ],
      "metadata": {
        "colab": {
          "base_uri": "https://localhost:8080/"
        },
        "id": "XvRVuM9lojuH",
        "outputId": "b3122416-1dd7-44ce-cc21-4a14b03b21b7"
      },
      "execution_count": 107,
      "outputs": [
        {
          "output_type": "stream",
          "name": "stdout",
          "text": [
            "X_train shape: (1192, 14, 11)\n",
            "y_train shape: (1192, 1)\n",
            "X_val shape: (149, 14, 11)\n",
            "y_val shape: (149, 1)\n",
            "X_test shape: (135, 14, 11)\n",
            "y_test shape: (135, 1)\n"
          ]
        }
      ]
    },
    {
      "cell_type": "code",
      "source": [
        "# Set Indices for Train, Validation, and Test Sets\n",
        "train_indices = np.arange(len(X_train))\n",
        "val_indices = np.arange(len(X_train), len(X_train) + len(X_val))\n",
        "test_indices = np.arange(len(X_train) + len(X_val), len(X_train) + len(X_val) + len(X_test))\n",
        "\n",
        "# Plot the Sets\n",
        "plt.plot(train_indices, y_train, color='blue', label='Train Set')\n",
        "plt.plot(val_indices, y_val, color='green', label='Validation Set')\n",
        "plt.plot(test_indices, y_test, color='red', label='Test Set')\n",
        "plt.xlabel('Index')\n",
        "plt.ylabel('Target Variable')\n",
        "plt.title('Train, Validation, and Test Sets')\n",
        "plt.legend()\n",
        "plt.show()"
      ],
      "metadata": {
        "colab": {
          "base_uri": "https://localhost:8080/",
          "height": 472
        },
        "id": "AcJT32WXqCFT",
        "outputId": "89c9bf8d-9854-42a1-d8bf-d2cd87d50ed5"
      },
      "execution_count": 108,
      "outputs": [
        {
          "output_type": "display_data",
          "data": {
            "text/plain": [
              "<Figure size 640x480 with 1 Axes>"
            ],
            "image/png": "[encoded data removed]"
          },
          "metadata": {}
        }
      ]
    },
    {
      "cell_type": "code",
      "source": [
        "# Create a Sequential model\n",
        "model = Sequential()\n",
        "\n",
        "# Add LSTM layers\n",
        "model.add(LSTM(100, return_sequences=True, input_shape=(timesteps, 11), name='first_layer'))\n",
        "model.add(Dropout(0.2))\n",
        "\n",
        "model.add(LSTM(100, return_sequences=True, input_shape=(timesteps, 11), name='second_layer'))\n",
        "model.add(Dropout(0.2))\n",
        "\n",
        "# Add a Dense layer with linear activation\n",
        "model.add(Dense(1, name='dense_layer'))\n",
        "\n",
        "model.add(Activation('linear', name='output'))\n",
        "\n",
        "# Compile the model using the Adam optimizer and mean squared error loss\n",
        "adam_optimizer = optimizers.Adam(learning_rate=0.001)\n",
        "model.compile(optimizer=adam_optimizer, loss='mse')\n",
        "\n",
        "# Define callbacks for early stopping and model checkpoint\n",
        "early_stopping = EarlyStopping(monitor='val_loss', patience=20, restore_best_weights=True)\n",
        "checkpoint = ModelCheckpoint('model.h5', monitor='val_loss', mode = 'min', verbose=1, save_best_only=True)\n",
        "\n",
        "# Train the model using training data\n",
        "history = model.fit(x=X_train, y=y_train, batch_size=32, epochs=100, validation_split=0.1, callbacks=[early_stopping, checkpoint])"
      ],
      "metadata": {
        "colab": {
          "base_uri": "https://localhost:8080/"
        },
        "id": "3xShqmXzU5Q7",
        "outputId": "d48d36e0-97c9-4c5f-af6d-01545eead34d"
      },
      "execution_count": 109,
      "outputs": [
        {
          "output_type": "stream",
          "name": "stdout",
          "text": [
            "Epoch 1/100\n",
            "28/34 [=======================>......] - ETA: 0s - loss: 0.0035\n",
            "Epoch 1: val_loss improved from inf to 0.09660, saving model to model.h5\n",
            "34/34 [==============================] - 6s 36ms/step - loss: 0.0031 - val_loss: 0.0966\n",
            "Epoch 2/100\n",
            "16/34 [=============>................] - ETA: 0s - loss: 0.0010"
          ]
        },
        {
          "output_type": "stream",
          "name": "stderr",
          "text": [
            "/usr/local/lib/python3.10/dist-packages/keras/src/engine/training.py:3103: UserWarning: You are saving your model as an HDF5 file via `model.save()`. This file format is considered legacy. We recommend using instead the native Keras format, e.g. `model.save('my_model.keras')`.\n",
            "  saving_api.save_model(\n"
          ]
        },
        {
          "output_type": "stream",
          "name": "stdout",
          "text": [
            "30/34 [=========================>....] - ETA: 0s - loss: 9.7779e-04\n",
            "Epoch 2: val_loss improved from 0.09660 to 0.07225, saving model to model.h5\n",
            "34/34 [==============================] - 0s 10ms/step - loss: 9.7135e-04 - val_loss: 0.0722\n",
            "Epoch 3/100\n",
            "29/34 [========================>.....] - ETA: 0s - loss: 7.9917e-04\n",
            "Epoch 3: val_loss improved from 0.07225 to 0.06308, saving model to model.h5\n",
            "34/34 [==============================] - 0s 10ms/step - loss: 7.8023e-04 - val_loss: 0.0631\n",
            "Epoch 4/100\n",
            "29/34 [========================>.....] - ETA: 0s - loss: 6.9099e-04\n",
            "Epoch 4: val_loss improved from 0.06308 to 0.05129, saving model to model.h5\n",
            "34/34 [==============================] - 0s 10ms/step - loss: 6.8940e-04 - val_loss: 0.0513\n",
            "Epoch 5/100\n",
            "28/34 [=======================>......] - ETA: 0s - loss: 6.1345e-04\n",
            "Epoch 5: val_loss improved from 0.05129 to 0.04522, saving model to model.h5\n",
            "34/34 [==============================] - 0s 10ms/step - loss: 6.0955e-04 - val_loss: 0.0452\n",
            "Epoch 6/100\n",
            "29/34 [========================>.....] - ETA: 0s - loss: 5.6602e-04\n",
            "Epoch 6: val_loss improved from 0.04522 to 0.03893, saving model to model.h5\n",
            "34/34 [==============================] - 0s 10ms/step - loss: 5.6516e-04 - val_loss: 0.0389\n",
            "Epoch 7/100\n",
            "28/34 [=======================>......] - ETA: 0s - loss: 4.9612e-04\n",
            "Epoch 7: val_loss improved from 0.03893 to 0.03483, saving model to model.h5\n",
            "34/34 [==============================] - 0s 11ms/step - loss: 5.3602e-04 - val_loss: 0.0348\n",
            "Epoch 8/100\n",
            "28/34 [=======================>......] - ETA: 0s - loss: 4.9469e-04\n",
            "Epoch 8: val_loss improved from 0.03483 to 0.03127, saving model to model.h5\n",
            "34/34 [==============================] - 0s 11ms/step - loss: 4.9223e-04 - val_loss: 0.0313\n",
            "Epoch 9/100\n",
            "28/34 [=======================>......] - ETA: 0s - loss: 4.5272e-04\n",
            "Epoch 9: val_loss improved from 0.03127 to 0.02782, saving model to model.h5\n",
            "34/34 [==============================] - 0s 10ms/step - loss: 4.5900e-04 - val_loss: 0.0278\n",
            "Epoch 10/100\n",
            "29/34 [========================>.....] - ETA: 0s - loss: 4.5135e-04\n",
            "Epoch 10: val_loss did not improve from 0.02782\n",
            "34/34 [==============================] - 0s 9ms/step - loss: 4.4726e-04 - val_loss: 0.0289\n",
            "Epoch 11/100\n",
            "29/34 [========================>.....] - ETA: 0s - loss: 4.1105e-04\n",
            "Epoch 11: val_loss improved from 0.02782 to 0.02513, saving model to model.h5\n",
            "34/34 [==============================] - 0s 10ms/step - loss: 4.0375e-04 - val_loss: 0.0251\n",
            "Epoch 12/100\n",
            "34/34 [==============================] - ETA: 0s - loss: 4.0700e-04\n",
            "Epoch 12: val_loss improved from 0.02513 to 0.02334, saving model to model.h5\n",
            "34/34 [==============================] - 0s 11ms/step - loss: 4.0700e-04 - val_loss: 0.0233\n",
            "Epoch 13/100\n",
            "29/34 [========================>.....] - ETA: 0s - loss: 3.9604e-04\n",
            "Epoch 13: val_loss improved from 0.02334 to 0.02124, saving model to model.h5\n",
            "34/34 [==============================] - 0s 10ms/step - loss: 3.8856e-04 - val_loss: 0.0212\n",
            "Epoch 14/100\n",
            "30/34 [=========================>....] - ETA: 0s - loss: 3.6649e-04\n",
            "Epoch 14: val_loss improved from 0.02124 to 0.01937, saving model to model.h5\n",
            "34/34 [==============================] - 0s 10ms/step - loss: 3.6293e-04 - val_loss: 0.0194\n",
            "Epoch 15/100\n",
            "28/34 [=======================>......] - ETA: 0s - loss: 3.5218e-04\n",
            "Epoch 15: val_loss improved from 0.01937 to 0.01760, saving model to model.h5\n",
            "34/34 [==============================] - 0s 10ms/step - loss: 3.4832e-04 - val_loss: 0.0176\n",
            "Epoch 16/100\n",
            "29/34 [========================>.....] - ETA: 0s - loss: 3.6111e-04\n",
            "Epoch 16: val_loss did not improve from 0.01760\n",
            "34/34 [==============================] - 0s 9ms/step - loss: 3.5084e-04 - val_loss: 0.0183\n",
            "Epoch 17/100\n",
            "31/34 [==========================>...] - ETA: 0s - loss: 3.4341e-04\n",
            "Epoch 17: val_loss improved from 0.01760 to 0.01541, saving model to model.h5\n",
            "34/34 [==============================] - 0s 10ms/step - loss: 3.4144e-04 - val_loss: 0.0154\n",
            "Epoch 18/100\n",
            "34/34 [==============================] - ETA: 0s - loss: 3.2986e-04\n",
            "Epoch 18: val_loss improved from 0.01541 to 0.01440, saving model to model.h5\n",
            "34/34 [==============================] - 0s 11ms/step - loss: 3.2986e-04 - val_loss: 0.0144\n",
            "Epoch 19/100\n",
            "29/34 [========================>.....] - ETA: 0s - loss: 3.2940e-04\n",
            "Epoch 19: val_loss did not improve from 0.01440\n",
            "34/34 [==============================] - 0s 9ms/step - loss: 3.2069e-04 - val_loss: 0.0164\n",
            "Epoch 20/100\n",
            "29/34 [========================>.....] - ETA: 0s - loss: 3.2224e-04\n",
            "Epoch 20: val_loss did not improve from 0.01440\n",
            "34/34 [==============================] - 0s 9ms/step - loss: 3.1877e-04 - val_loss: 0.0149\n",
            "Epoch 21/100\n",
            "29/34 [========================>.....] - ETA: 0s - loss: 3.1136e-04\n",
            "Epoch 21: val_loss improved from 0.01440 to 0.01355, saving model to model.h5\n",
            "34/34 [==============================] - 0s 10ms/step - loss: 3.0866e-04 - val_loss: 0.0135\n",
            "Epoch 22/100\n",
            "29/34 [========================>.....] - ETA: 0s - loss: 3.1628e-04\n",
            "Epoch 22: val_loss improved from 0.01355 to 0.01324, saving model to model.h5\n",
            "34/34 [==============================] - 0s 10ms/step - loss: 3.1030e-04 - val_loss: 0.0132\n",
            "Epoch 23/100\n",
            "30/34 [=========================>....] - ETA: 0s - loss: 3.0126e-04\n",
            "Epoch 23: val_loss did not improve from 0.01324\n",
            "34/34 [==============================] - 0s 9ms/step - loss: 3.0221e-04 - val_loss: 0.0140\n",
            "Epoch 24/100\n",
            "30/34 [=========================>....] - ETA: 0s - loss: 2.9365e-04\n",
            "Epoch 24: val_loss improved from 0.01324 to 0.01202, saving model to model.h5\n",
            "34/34 [==============================] - 0s 10ms/step - loss: 2.9575e-04 - val_loss: 0.0120\n",
            "Epoch 25/100\n",
            "28/34 [=======================>......] - ETA: 0s - loss: 3.0218e-04\n",
            "Epoch 25: val_loss did not improve from 0.01202\n",
            "34/34 [==============================] - 0s 9ms/step - loss: 2.9758e-04 - val_loss: 0.0156\n",
            "Epoch 26/100\n",
            "31/34 [==========================>...] - ETA: 0s - loss: 3.0253e-04\n",
            "Epoch 26: val_loss improved from 0.01202 to 0.01021, saving model to model.h5\n",
            "34/34 [==============================] - 1s 16ms/step - loss: 3.0140e-04 - val_loss: 0.0102\n",
            "Epoch 27/100\n",
            "31/34 [==========================>...] - ETA: 0s - loss: 2.7615e-04\n",
            "Epoch 27: val_loss did not improve from 0.01021\n",
            "34/34 [==============================] - 0s 14ms/step - loss: 2.7771e-04 - val_loss: 0.0102\n",
            "Epoch 28/100\n",
            "31/34 [==========================>...] - ETA: 0s - loss: 2.8993e-04\n",
            "Epoch 28: val_loss improved from 0.01021 to 0.00965, saving model to model.h5\n",
            "34/34 [==============================] - 1s 15ms/step - loss: 2.8496e-04 - val_loss: 0.0097\n",
            "Epoch 29/100\n",
            "31/34 [==========================>...] - ETA: 0s - loss: 2.7409e-04\n",
            "Epoch 29: val_loss did not improve from 0.00965\n",
            "34/34 [==============================] - 0s 13ms/step - loss: 2.7422e-04 - val_loss: 0.0110\n",
            "Epoch 30/100\n",
            "33/34 [============================>.] - ETA: 0s - loss: 2.8022e-04\n",
            "Epoch 30: val_loss did not improve from 0.00965\n",
            "34/34 [==============================] - 0s 13ms/step - loss: 2.7857e-04 - val_loss: 0.0099\n",
            "Epoch 31/100\n",
            "31/34 [==========================>...] - ETA: 0s - loss: 2.7510e-04\n",
            "Epoch 31: val_loss did not improve from 0.00965\n",
            "34/34 [==============================] - 0s 14ms/step - loss: 2.7168e-04 - val_loss: 0.0100\n",
            "Epoch 32/100\n",
            "31/34 [==========================>...] - ETA: 0s - loss: 2.7483e-04\n",
            "Epoch 32: val_loss improved from 0.00965 to 0.00957, saving model to model.h5\n",
            "34/34 [==============================] - 0s 13ms/step - loss: 2.7000e-04 - val_loss: 0.0096\n",
            "Epoch 33/100\n",
            "28/34 [=======================>......] - ETA: 0s - loss: 2.6630e-04\n",
            "Epoch 33: val_loss did not improve from 0.00957\n",
            "34/34 [==============================] - 0s 9ms/step - loss: 2.6558e-04 - val_loss: 0.0104\n",
            "Epoch 34/100\n",
            "34/34 [==============================] - ETA: 0s - loss: 2.8808e-04\n",
            "Epoch 34: val_loss did not improve from 0.00957\n",
            "34/34 [==============================] - 0s 9ms/step - loss: 2.8808e-04 - val_loss: 0.0099\n",
            "Epoch 35/100\n",
            "31/34 [==========================>...] - ETA: 0s - loss: 2.7563e-04\n",
            "Epoch 35: val_loss did not improve from 0.00957\n",
            "34/34 [==============================] - 0s 9ms/step - loss: 2.7170e-04 - val_loss: 0.0111\n",
            "Epoch 36/100\n",
            "28/34 [=======================>......] - ETA: 0s - loss: 2.6095e-04\n",
            "Epoch 36: val_loss did not improve from 0.00957\n",
            "34/34 [==============================] - 0s 9ms/step - loss: 2.5536e-04 - val_loss: 0.0099\n",
            "Epoch 37/100\n",
            "29/34 [========================>.....] - ETA: 0s - loss: 2.5609e-04\n",
            "Epoch 37: val_loss did not improve from 0.00957\n",
            "34/34 [==============================] - 0s 9ms/step - loss: 2.5628e-04 - val_loss: 0.0098\n",
            "Epoch 38/100\n",
            "29/34 [========================>.....] - ETA: 0s - loss: 2.5209e-04\n",
            "Epoch 38: val_loss did not improve from 0.00957\n",
            "34/34 [==============================] - 0s 9ms/step - loss: 2.5503e-04 - val_loss: 0.0107\n",
            "Epoch 39/100\n",
            "30/34 [=========================>....] - ETA: 0s - loss: 2.5287e-04\n",
            "Epoch 39: val_loss did not improve from 0.00957\n",
            "34/34 [==============================] - 0s 9ms/step - loss: 2.4941e-04 - val_loss: 0.0104\n",
            "Epoch 40/100\n",
            "30/34 [=========================>....] - ETA: 0s - loss: 2.4913e-04\n",
            "Epoch 40: val_loss did not improve from 0.00957\n",
            "34/34 [==============================] - 0s 9ms/step - loss: 2.4735e-04 - val_loss: 0.0114\n",
            "Epoch 41/100\n",
            "29/34 [========================>.....] - ETA: 0s - loss: 2.4207e-04\n",
            "Epoch 41: val_loss did not improve from 0.00957\n",
            "34/34 [==============================] - 0s 9ms/step - loss: 2.4823e-04 - val_loss: 0.0108\n",
            "Epoch 42/100\n",
            "31/34 [==========================>...] - ETA: 0s - loss: 2.6477e-04\n",
            "Epoch 42: val_loss did not improve from 0.00957\n",
            "34/34 [==============================] - 0s 9ms/step - loss: 2.5822e-04 - val_loss: 0.0110\n",
            "Epoch 43/100\n",
            "31/34 [==========================>...] - ETA: 0s - loss: 2.4864e-04\n",
            "Epoch 43: val_loss did not improve from 0.00957\n",
            "34/34 [==============================] - 0s 14ms/step - loss: 2.4556e-04 - val_loss: 0.0121\n",
            "Epoch 44/100\n",
            "32/34 [===========================>..] - ETA: 0s - loss: 2.4211e-04\n",
            "Epoch 44: val_loss did not improve from 0.00957\n",
            "34/34 [==============================] - 1s 18ms/step - loss: 2.4787e-04 - val_loss: 0.0107\n",
            "Epoch 45/100\n",
            "30/34 [=========================>....] - ETA: 0s - loss: 2.4724e-04\n",
            "Epoch 45: val_loss did not improve from 0.00957\n",
            "34/34 [==============================] - 1s 20ms/step - loss: 2.4809e-04 - val_loss: 0.0107\n",
            "Epoch 46/100\n",
            "29/34 [========================>.....] - ETA: 0s - loss: 2.4890e-04\n",
            "Epoch 46: val_loss did not improve from 0.00957\n",
            "34/34 [==============================] - 0s 12ms/step - loss: 2.4451e-04 - val_loss: 0.0108\n",
            "Epoch 47/100\n",
            "30/34 [=========================>....] - ETA: 0s - loss: 2.4157e-04\n",
            "Epoch 47: val_loss did not improve from 0.00957\n",
            "34/34 [==============================] - 0s 9ms/step - loss: 2.4544e-04 - val_loss: 0.0121\n",
            "Epoch 48/100\n",
            "31/34 [==========================>...] - ETA: 0s - loss: 2.5034e-04\n",
            "Epoch 48: val_loss did not improve from 0.00957\n",
            "34/34 [==============================] - 0s 9ms/step - loss: 2.4952e-04 - val_loss: 0.0114\n",
            "Epoch 49/100\n",
            "31/34 [==========================>...] - ETA: 0s - loss: 2.4528e-04\n",
            "Epoch 49: val_loss did not improve from 0.00957\n",
            "34/34 [==============================] - 0s 9ms/step - loss: 2.4316e-04 - val_loss: 0.0120\n",
            "Epoch 50/100\n",
            "28/34 [=======================>......] - ETA: 0s - loss: 2.4986e-04\n",
            "Epoch 50: val_loss did not improve from 0.00957\n",
            "34/34 [==============================] - 0s 9ms/step - loss: 2.4897e-04 - val_loss: 0.0126\n",
            "Epoch 51/100\n",
            "34/34 [==============================] - ETA: 0s - loss: 2.3994e-04\n",
            "Epoch 51: val_loss did not improve from 0.00957\n",
            "34/34 [==============================] - 0s 10ms/step - loss: 2.3994e-04 - val_loss: 0.0118\n",
            "Epoch 52/100\n",
            "32/34 [===========================>..] - ETA: 0s - loss: 2.4347e-04\n",
            "Epoch 52: val_loss did not improve from 0.00957\n",
            "34/34 [==============================] - 0s 8ms/step - loss: 2.4074e-04 - val_loss: 0.0116\n"
          ]
        }
      ]
    },
    {
      "cell_type": "code",
      "source": [
        "model.summary()"
      ],
      "metadata": {
        "colab": {
          "base_uri": "https://localhost:8080/"
        },
        "id": "ijxUtuUoNEIm",
        "outputId": "e25c6539-9387-4d5e-d4f0-36ba50ae5681"
      },
      "execution_count": 110,
      "outputs": [
        {
          "output_type": "stream",
          "name": "stdout",
          "text": [
            "Model: \"sequential_3\"\n",
            "_________________________________________________________________\n",
            " Layer (type)                Output Shape              Param #   \n",
            "=================================================================\n",
            " first_layer (LSTM)          (None, 14, 100)           44800     \n",
            "                                                                 \n",
            " dropout_8 (Dropout)         (None, 14, 100)           0         \n",
            "                                                                 \n",
            " second_layer (LSTM)         (None, 14, 100)           80400     \n",
            "                                                                 \n",
            " dropout_9 (Dropout)         (None, 14, 100)           0         \n",
            "                                                                 \n",
            " dense_layer (Dense)         (None, 14, 1)             101       \n",
            "                                                                 \n",
            " output (Activation)         (None, 14, 1)             0         \n",
            "                                                                 \n",
            "=================================================================\n",
            "Total params: 125301 (489.46 KB)\n",
            "Trainable params: 125301 (489.46 KB)\n",
            "Non-trainable params: 0 (0.00 Byte)\n",
            "_________________________________________________________________\n"
          ]
        }
      ]
    },
    {
      "cell_type": "code",
      "source": [
        "# Plot training and validation loss\n",
        "plt.plot(history.history['loss'], label='Training Loss')\n",
        "plt.plot(history.history['val_loss'], label='Validation Loss')\n",
        "plt.xlabel('Epoch')\n",
        "plt.ylabel('Loss')\n",
        "plt.title('Training and Validation Loss')\n",
        "plt.legend()\n",
        "plt.show()"
      ],
      "metadata": {
        "colab": {
          "base_uri": "https://localhost:8080/",
          "height": 472
        },
        "id": "6JZHDrNBfA7f",
        "outputId": "8fc68f7a-84e2-4a0b-c771-fa2df4b27701"
      },
      "execution_count": 111,
      "outputs": [
        {
          "output_type": "display_data",
          "data": {
            "text/plain": [
              "<Figure size 640x480 with 1 Axes>"
            ],
            "image/png": "[encoded data removed]"
          },
          "metadata": {}
        }
      ]
    },
    {
      "cell_type": "code",
      "source": [
        "# Load the best model\n",
        "model = load_model('model.h5')\n",
        "model"
      ],
      "metadata": {
        "colab": {
          "base_uri": "https://localhost:8080/"
        },
        "id": "8Xv0tm08DyMj",
        "outputId": "118335b6-e08d-483b-9809-46ea4539e7cc"
      },
      "execution_count": 112,
      "outputs": [
        {
          "output_type": "execute_result",
          "data": {
            "text/plain": [
              "<keras.src.engine.sequential.Sequential at 0x780e4d207c10>"
            ]
          },
          "metadata": {},
          "execution_count": 112
        }
      ]
    },
    {
      "cell_type": "code",
      "source": [
        "# Make predictions on the training set\n",
        "y_pred_train = model.predict(X_train)\n",
        "\n",
        "# Extract the last prediction for each sequence\n",
        "y_pred_train_last = y_pred_train[:, -1, :]\n",
        "\n",
        "# Calculate R^2 for training set\n",
        "r2_train = r2_score(y_train, y_pred_train_last)\n",
        "\n",
        "# Calculate Mean Squared Error (MSE) for training set\n",
        "mse_train = mean_squared_error(y_train, y_pred_train_last)\n",
        "\n",
        "# Calculate Root Mean Squared Error (RMSE) for training set\n",
        "rmse_train = np.sqrt(mse_train)\n",
        "\n",
        "# Calculate Mean Absolute Error (MAE) for training set\n",
        "mae_train = mean_absolute_error(y_train, y_pred_train_last)\n",
        "\n",
        "# Calculate Mean Absolute Percentage Error (MAPE) for training set\n",
        "mape_train = np.mean(np.abs((y_train - y_pred_train_last) / y_train)) * 100\n",
        "\n",
        "# Print the results for training set\n",
        "print(\"R^2 Score (Training Set):\", r2_train)\n",
        "print(\"Mean Squared Error (MSE) (Training Set):\", mse_train)\n",
        "print(\"Root Mean Squared Error (RMSE) (Training Set):\", rmse_train)\n",
        "print(\"Mean Absolute Error (MAE) (Training Set):\", mae_train)\n",
        "print(\"Mean Absolute Percentage Error (MAPE) (Training Set):\", mape_train)"
      ],
      "metadata": {
        "colab": {
          "base_uri": "https://localhost:8080/"
        },
        "id": "P9w9W1f4aiNf",
        "outputId": "cf7781f8-453d-404e-e4c5-d4e8e2cbce70"
      },
      "execution_count": 113,
      "outputs": [
        {
          "output_type": "stream",
          "name": "stdout",
          "text": [
            "38/38 [==============================] - 1s 4ms/step\n",
            "R^2 Score (Training Set): 0.9914106718830346\n",
            "Mean Squared Error (MSE) (Training Set): 0.0003152748792155699\n",
            "Root Mean Squared Error (RMSE) (Training Set): 0.01775598150527224\n",
            "Mean Absolute Error (MAE) (Training Set): 0.010496468585509086\n",
            "Mean Absolute Percentage Error (MAPE) (Training Set): inf\n"
          ]
        },
        {
          "output_type": "stream",
          "name": "stderr",
          "text": [
            "<ipython-input-113-7c1aba61cb76>:20: RuntimeWarning: divide by zero encountered in divide\n",
            "  mape_train = np.mean(np.abs((y_train - y_pred_train_last) / y_train)) * 100\n"
          ]
        }
      ]
    },
    {
      "cell_type": "code",
      "source": [
        "# Make predictions on the validation set\n",
        "y_pred_val = model.predict(X_val)\n",
        "\n",
        "# Extract the last prediction for each sequence\n",
        "y_pred_val_last = y_pred_val[:, -1, :]\n",
        "\n",
        "# Calculate R^2 for validation set\n",
        "r2_val = r2_score(y_val, y_pred_val_last)\n",
        "\n",
        "# Calculate Mean Squared Error (MSE) for validation set\n",
        "mse_val = mean_squared_error(y_val, y_pred_val_last)\n",
        "\n",
        "# Calculate Root Mean Squared Error (RMSE) for validation set\n",
        "rmse_val = np.sqrt(mse_val)\n",
        "\n",
        "# Calculate Mean Absolute Error (MAE) for validation set\n",
        "mae_val = mean_absolute_error(y_val, y_pred_val_last)\n",
        "\n",
        "# Calculate Mean Absolute Percentage Error (MAPE) for validation set\n",
        "mape_val = np.mean(np.abs((y_val - y_pred_val_last) / y_val)) * 100\n",
        "\n",
        "# Print the results for validation set\n",
        "print(\"R^2 Score (Validation Set):\", r2_val)\n",
        "print(\"Mean Squared Error (MSE) (Validation Set):\", mse_val)\n",
        "print(\"Root Mean Squared Error (RMSE) (Validation Set):\", rmse_val)\n",
        "print(\"Mean Absolute Error (MAE) (Validation Set):\", mae_val)\n",
        "print(\"Mean Absolute Percentage Error (MAPE) (Validation Set):\", mape_val)"
      ],
      "metadata": {
        "id": "HiKTHX51BIH6",
        "colab": {
          "base_uri": "https://localhost:8080/"
        },
        "outputId": "66aeb5d4-3b17-4dfe-a8c6-6b8cc804d15b"
      },
      "execution_count": 114,
      "outputs": [
        {
          "output_type": "stream",
          "name": "stdout",
          "text": [
            "5/5 [==============================] - 0s 4ms/step\n",
            "R^2 Score (Validation Set): 0.8413931057274903\n",
            "Mean Squared Error (MSE) (Validation Set): 0.0022952063232199223\n",
            "Root Mean Squared Error (RMSE) (Validation Set): 0.04790831162981975\n",
            "Mean Absolute Error (MAE) (Validation Set): 0.03906721403313699\n",
            "Mean Absolute Percentage Error (MAPE) (Validation Set): 6.49890971532273\n"
          ]
        }
      ]
    },
    {
      "cell_type": "code",
      "source": [
        "# Plot actual vs. predicted values for the validation set\n",
        "plt.figure(figsize=(16,8))\n",
        "plt.plot(y_val, color = 'red', label = 'validation dataset')\n",
        "plt.plot(y_pred_val_last, color = 'blue', label = 'prediction dataset')\n",
        "plt.legend()\n",
        "plt.show()"
      ],
      "metadata": {
        "id": "GnojJAkYVWnQ",
        "colab": {
          "base_uri": "https://localhost:8080/",
          "height": 667
        },
        "outputId": "9561d4e0-4ac4-4e8b-fb7e-05c0485b9f69"
      },
      "execution_count": 115,
      "outputs": [
        {
          "output_type": "display_data",
          "data": {
            "text/plain": [
              "<Figure size 1600x800 with 1 Axes>"
            ],
            "image/png": "[encoded data removed]"
          },
          "metadata": {}
        }
      ]
    },
    {
      "cell_type": "code",
      "source": [
        "# Make predictions on the validation set\n",
        "y_test_val = model.predict(X_test)\n",
        "\n",
        "# Extract the last prediction for each sequence\n",
        "y_test_val_last = y_test_val[:, -1, :]\n",
        "\n",
        "# Calculate R^2 for validation set\n",
        "r2_val = r2_score(y_test, y_test_val_last)\n",
        "\n",
        "# Calculate Mean Squared Error (MSE) for validation set\n",
        "mse_val = mean_squared_error(y_test, y_test_val_last)\n",
        "\n",
        "# Calculate Root Mean Squared Error (RMSE) for validation set\n",
        "rmse_val = np.sqrt(mse_val)\n",
        "\n",
        "# Calculate Mean Absolute Error (MAE) for validation set\n",
        "mae_val = mean_absolute_error(y_test, y_test_val_last)\n",
        "\n",
        "# Calculate Mean Absolute Percentage Error (MAPE) for validation set\n",
        "mape_val = np.mean(np.abs((y_test - y_test_val_last) / y_test)) * 100\n",
        "\n",
        "# Print the results for validation set\n",
        "print(\"R^2 Score (Validation Set):\", r2_val)\n",
        "print(\"Mean Squared Error (MSE) (Validation Set):\", mse_val)\n",
        "print(\"Root Mean Squared Error (RMSE) (Validation Set):\", rmse_val)\n",
        "print(\"Mean Absolute Error (MAE) (Validation Set):\", mae_val)\n",
        "print(\"Mean Absolute Percentage Error (MAPE) (Validation Set):\", mape_val)"
      ],
      "metadata": {
        "colab": {
          "base_uri": "https://localhost:8080/"
        },
        "id": "CRs5Q20GR7_n",
        "outputId": "a54ca7be-b277-4ac8-c595-dfe448487722"
      },
      "execution_count": 116,
      "outputs": [
        {
          "output_type": "stream",
          "name": "stdout",
          "text": [
            "5/5 [==============================] - 0s 6ms/step\n",
            "R^2 Score (Validation Set): 0.47020291053119134\n",
            "Mean Squared Error (MSE) (Validation Set): 0.009256796685037084\n",
            "Root Mean Squared Error (RMSE) (Validation Set): 0.09621224810302004\n",
            "Mean Absolute Error (MAE) (Validation Set): 0.08142570512769709\n",
            "Mean Absolute Percentage Error (MAPE) (Validation Set): 10.572910833130306\n"
          ]
        }
      ]
    },
    {
      "cell_type": "code",
      "source": [
        "# Plot actual vs. predicted values for the validation set\n",
        "plt.figure(figsize=(16,8))\n",
        "plt.plot(y_test, color = 'black', label = 'Test Value')\n",
        "plt.plot(y_test_val_last, color = 'red', label = 'Predicted Value')\n",
        "plt.legend()\n",
        "plt.show()"
      ],
      "metadata": {
        "colab": {
          "base_uri": "https://localhost:8080/",
          "height": 663
        },
        "id": "ZTXF-LMgZvbm",
        "outputId": "0a4c6037-e8be-4085-f20d-72da234d1160"
      },
      "execution_count": 118,
      "outputs": [
        {
          "output_type": "display_data",
          "data": {
            "text/plain": [
              "<Figure size 1600x800 with 1 Axes>"
            ],
            "image/png": "[encoded data removed]"
          },
          "metadata": {}
        }
      ]
    },
    {
      "cell_type": "code",
      "source": [],
      "metadata": {
        "id": "kbTMwpNecJxH"
      },
      "execution_count": null,
      "outputs": []
    }
  ],
  "metadata": {
    "colab": {
      "provenance": [],
      "gpuType": "T4"
    },
    "kernelspec": {
      "display_name": "Python 3",
      "name": "python3"
    },
    "language_info": {
      "name": "python"
    },
    "accelerator": "GPU"
  },
  "nbformat": 4,
  "nbformat_minor": 0
}